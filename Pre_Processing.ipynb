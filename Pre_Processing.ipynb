{
  "nbformat": 4,
  "nbformat_minor": 0,
  "metadata": {
    "colab": {
      "private_outputs": true,
      "provenance": [],
      "collapsed_sections": [],
      "include_colab_link": true
    },
    "kernelspec": {
      "name": "python3",
      "display_name": "Python 3"
    },
    "language_info": {
      "name": "python"
    }
  },
  "cells": [
    {
      "cell_type": "markdown",
      "metadata": {
        "id": "view-in-github",
        "colab_type": "text"
      },
      "source": [
        "<a href=\"https://colab.research.google.com/github/Herzeg137/NLP/blob/main/Pre_Processing.ipynb\" target=\"_parent\"><img src=\"https://colab.research.google.com/assets/colab-badge.svg\" alt=\"Open In Colab\"/></a>"
      ]
    },
    {
      "cell_type": "markdown",
      "source": [
        "Lowercasing \n",
        "\n",
        "Removing Punctuations\n",
        "\n",
        "Removing numbers\n",
        "\n",
        "Removing HTML tags\n",
        "\n",
        "Removing extra space\n",
        "\n",
        "Removing emojis\n",
        "\n",
        "Removing Contractions\n",
        "\n",
        "Removing stopwords\n",
        "\n",
        "Stemming\n",
        "\n",
        "Lemmatization\n",
        "\n",
        "Tokenizing text\n",
        "\n",
        "Tekenizing tweet\n",
        "\n",
        "Split text into sentences\n",
        "\n",
        "n-grams\n",
        "\n",
        "RegEx"
      ],
      "metadata": {
        "id": "_vdSAUzEfXK4"
      }
    },
    {
      "cell_type": "code",
      "source": [
        "#Lowecasing the data\n",
        "import nltk\n",
        "text = \"This is a Demo Text for NLP using NLTK.Full form of NLTK is Natural Language Toolkit\"\n",
        "lower_text = text.lower()\n",
        "print (lower_text)"
      ],
      "metadata": {
        "id": "hfYPqR2dgG10"
      },
      "execution_count": null,
      "outputs": []
    },
    {
      "cell_type": "code",
      "source": [
        "#Removing Puncuatations\n",
        "import nltk\n",
        "nltk.download(\"punkt\")\n",
        "sentence  = \"Think and wonder,  wonder and think.\"\n",
        "words = nltk.word_tokenize(sentence)\n",
        "new_words= [word for word in words if word.isalnum()]\n",
        "print(new_words)\n",
        "\n"
      ],
      "metadata": {
        "id": "hSl0-cG6bCH1"
      },
      "execution_count": null,
      "outputs": []
    },
    {
      "cell_type": "code",
      "source": [
        "#Removing Numbers\n",
        "import nltk\n",
        "text = \"There was   200 people standing right next to me at 2pm.\"\n",
        "output = ''.join(c for c in text if not c.isdigit())\n",
        "print(output)"
      ],
      "metadata": {
        "id": "4H3YQAimbCNg"
      },
      "execution_count": null,
      "outputs": []
    },
    {
      "cell_type": "code",
      "source": [
        "#Removing HTML tags/Tags\n",
        "import re\n",
        "text = \"\"\"<head><body>hello world!</body></head>\"\"\"\n",
        "cleaned_text = re.sub('<[^<]+?>','', text)\n",
        "print (cleaned_text)"
      ],
      "metadata": {
        "id": "qLHxJWbdbCRT"
      },
      "execution_count": null,
      "outputs": []
    },
    {
      "cell_type": "code",
      "source": [
        "#Removing extra space\n",
        "sentence = ' hello  apple'\n",
        "sentence.strip() #qo'shtirnoqdagi joyni olib tashlash"
      ],
      "metadata": {
        "id": "iU3rITZpbCVm"
      },
      "execution_count": null,
      "outputs": []
    },
    {
      "cell_type": "code",
      "source": [
        "#Removing extra space1\n",
        "import re\n",
        "sample_text = \"   \\t\\tA  text\\t\\t\\t\\n\\n sample     \"\n",
        "clean_text = \" \".join(sample_text.split())\n",
        "print( clean_text) #or #print(sample_text, clean_text)"
      ],
      "metadata": {
        "id": "atVaFlDzbCcU"
      },
      "execution_count": null,
      "outputs": []
    },
    {
      "cell_type": "code",
      "source": [
        "#Removing emojis\n",
        "#!pip install clean-text\n",
        "\n",
        "from cleantext import clean\n",
        "\n",
        "#provide string with emojis\n",
        "text = \"This sample text contains laughing emojis 😀 😃 😄 😁 😆 😅 😂 🤣\"\n",
        "\n",
        "#print text after removing the emojis from it\n",
        "print(clean(text, no_emoji=True))"
      ],
      "metadata": {
        "id": "YDBIZDSgbKg6"
      },
      "execution_count": null,
      "outputs": []
    },
    {
      "cell_type": "code",
      "source": [
        "!pip install contractions"
      ],
      "metadata": {
        "id": "MSVixPvcxr4S"
      },
      "execution_count": null,
      "outputs": []
    },
    {
      "cell_type": "code",
      "source": [
        "#Removing Contractions(Buning vazifasi Qisqartirilgan so'zlarni asliga keltiradi)\n",
        "#pip install contractions\n",
        "import contractions\n",
        "text = '''I'll be there within 5 min. Shouldn't you be there too?\n",
        "          I'd love to see u there my dear. It's awesome to meet new friends.\n",
        "          We've been waiting for this day for so long.'''\n",
        " \n",
        "\n",
        "expanded_words = []   \n",
        "for word in text.split():\n",
        "  expanded_words.append(contractions.fix(word))  \n",
        "   \n",
        "expanded_text = ' '.join(expanded_words)\n",
        "#print('Original text: ' + text)\n",
        "print('Expanded_text: '  + expanded_text)"
      ],
      "metadata": {
        "id": "z5nVgZWrbKpj"
      },
      "execution_count": null,
      "outputs": []
    },
    {
      "cell_type": "code",
      "source": [
        "#Remove Stopwords\n",
        "import nltk \n",
        "from nltk.corpus import stopwords\n",
        "nltk.download('stopwords')\n",
        "nltk.download('punkt')\n",
        "from nltk.tokenize import word_tokenize\n",
        "\n",
        "print(stopwords.words('english'))\n",
        "\n",
        "sample_text = \"Oh man, this is pretty cool. We will do more such things.\"\n",
        "text_tokens = word_tokenize(sample_text)\n",
        "\n",
        "tokens_without_sw = [word for word in text_tokens if not word in stopwords.words('english')]\n",
        "\n",
        "print(text_tokens)\n",
        "print(tokens_without_sw)"
      ],
      "metadata": {
        "id": "l1MkWbOZbKsp"
      },
      "execution_count": null,
      "outputs": []
    },
    {
      "cell_type": "code",
      "source": [
        "#Stemming\n",
        "from nltk.stem.porter import PorterStemmer\n",
        "\n",
        "stemmer = PorterStemmer()\n",
        "\n",
        "plurals = [\"Likes\",\"Studies\",  \"Liking\", \"Padding\"]\n",
        "\n",
        "singles = [stemmer.stem(plural) for plural in plurals]\n",
        "\n",
        "print(' '.join(singles))"
      ],
      "metadata": {
        "id": "wR4cdLJsbCgh"
      },
      "execution_count": null,
      "outputs": []
    },
    {
      "cell_type": "code",
      "source": [
        "#Lemmatization1\n",
        "import nltk\n",
        "from nltk.stem import WordNetLemmatizer\n",
        "nltk.download('wordnet')\n",
        "nltk.download('omw-1.4')\n",
        "  \n",
        "lemmatizer = WordNetLemmatizer()\n",
        "  \n",
        "print(\"rocks :\", lemmatizer.lemmatize(\"rocks\"))\n",
        "print(\"corpora :\", lemmatizer.lemmatize(\"corpora\"))\n",
        "print(\"better :\", lemmatizer.lemmatize(\"better\", pos =\"a\"))\n",
        "print(\"studies :\", lemmatizer.lemmatize(\"studies\"))"
      ],
      "metadata": {
        "id": "ZmzHSQxybSug"
      },
      "execution_count": null,
      "outputs": []
    },
    {
      "cell_type": "code",
      "source": [
        "#Lemmatization2\n",
        "import nltk\n",
        "from nltk.stem import WordNetLemmatizer\n",
        "nltk.download('wordnet')\n",
        "nltk.download('omw-1.4')\n",
        "lemmatizer = WordNetLemmatizer()\n",
        "for item in ['am' ,'are' ,'is','was','were', 'padding']:\n",
        "    print(lemmatizer.lemmatize(item,pos='v'),end='\\t')"
      ],
      "metadata": {
        "id": "PTl3dNJBbSze"
      },
      "execution_count": null,
      "outputs": []
    },
    {
      "cell_type": "code",
      "source": [
        "#Tokenize text\n",
        "import nltk\n",
        "nltk.download('punkt')\n",
        "from nltk.tokenize import word_tokenize\n",
        "\n",
        "sample_text = \"this is a text @ready to tokenize\"\n",
        "tokens = word_tokenize(sample_text)\n",
        "print(tokens)"
      ],
      "metadata": {
        "id": "51MzSc6qbS2E"
      },
      "execution_count": null,
      "outputs": []
    },
    {
      "cell_type": "code",
      "source": [
        "#Tokenize tweet\n",
        "import nltk\n",
        "nltk.download('punkt')\n",
        "from nltk.tokenize import TweetTokenizer\n",
        "\n",
        "tweet_tokenizer = TweetTokenizer()\n",
        "sample_text = \"This is a tweet @jack #NLP\"\n",
        "tokens = tweet_tokenizer.tokenize(sample_text)\n",
        "print(tokens)"
      ],
      "metadata": {
        "id": "RiiOcs6EbZFK"
      },
      "execution_count": null,
      "outputs": []
    },
    {
      "cell_type": "code",
      "source": [
        "#Split text into sentences\n",
        "from nltk.tokenize import sent_tokenize\n",
        "\n",
        "sample_text = \"This is a sentence. This is another one!\\nAnd this is the last one.\"\n",
        "sentences = sent_tokenize(sample_text)\n",
        "print(sentences)"
      ],
      "metadata": {
        "id": "qxn1dmLubZH1"
      },
      "execution_count": null,
      "outputs": []
    },
    {
      "cell_type": "code",
      "source": [
        "#n-grams1\n",
        "from nltk import ngrams \n",
        "sentence = input(\"Enter the sentence : \")\n",
        "n = int(input(\"Enter the value of n : \"))\n",
        "n_grams = ngrams(sentence.split(), n)\n",
        "for grams in n_grams:\n",
        "  print(grams)"
      ],
      "metadata": {
        "id": "huDUdiD-bZKS"
      },
      "execution_count": null,
      "outputs": []
    },
    {
      "cell_type": "code",
      "source": [
        "#n-grams2\n",
        "from nltk import ngrams\n",
        "\n",
        "sentence = 'this is a foo bar sentences and i want to ngramize it'\n",
        "\n",
        "n = 6\n",
        "sixgrams = ngrams(sentence.split(), n)\n",
        "\n",
        "for grams in sixgrams:\n",
        "  print(grams)"
      ],
      "metadata": {
        "id": "X2L8UWkUL_Lb"
      },
      "execution_count": null,
      "outputs": []
    },
    {
      "cell_type": "markdown",
      "source": [
        "# Regular Expression\n",
        "\n",
        "## **RegEx functions: **\n",
        "\n",
        "*findall()* : Returns a list containing all matches\n",
        "\n",
        "*search()* : Returns a Match object if there is a match anywhere in the string\n",
        "\n",
        "*split()* : Returns a list where the string has been split at each match\n",
        "\n",
        "*sub()* : \tReplaces one or many matches with a string\n"
      ],
      "metadata": {
        "id": "b0xSnJKKqc8a"
      }
    },
    {
      "cell_type": "code",
      "source": [
        "#RegEx0, example\n",
        "import re\n",
        "test_email_1 = \"Jane.doe1971@gmail.com\"\n",
        "test_email_2 = \"JD@msn.org.edu\"\n",
        "test_email_3 = \"J.A.N.E@web123.AI\"\n",
        "test_emails = [test_email_1, test_email_2, test_email_3]\n",
        "\n",
        "def extract_info(email_string):\n",
        "    u = re.search('([A-Za-z0-9\\.]*)@', email_string)\n",
        "    username = u.group(1)\n",
        "    d = re.search('@([A-Za-z0-9]*)\\.', email_string)\n",
        "    domain = d.group(1)\n",
        "    t = re.search('@[A-Za-z0-9]*\\.([A-Za-z\\.]*)', email_string)\n",
        "    TLD = t.group(1)\n",
        "\n",
        "    print(\"\\n*****************************\\nEMAIL: \", email_string)\n",
        "    print(\"Username: \", username)\n",
        "    print(\"Domain: \", domain)\n",
        "    print(\"TLD: \", TLD, \"\\n\")\n",
        "\n",
        "for email in test_emails:\n",
        "    extract_info(email)"
      ],
      "metadata": {
        "id": "82uoF5KKyQax"
      },
      "execution_count": null,
      "outputs": []
    },
    {
      "cell_type": "markdown",
      "source": [
        "# Regular Expression's Metacharacters"
      ],
      "metadata": {
        "id": "exSvTAJ9IzER"
      }
    },
    {
      "cell_type": "code",
      "source": [
        "#RegEx1, metacharacters0\n",
        "#all metacharacters and clearly doc in this site : https://www.w3schools.com/python/python_regex.asp\n",
        "\n",
        "#[] - A set of characters\n",
        "import re\n",
        "\n",
        "txt = \"The rain in Spain\"\n",
        "\n",
        "#Find all lower case characters alphabetically between \"a\" and \"m\":\n",
        "\n",
        "x = re.findall(\"[a-m]\", txt)\n",
        "print(x)\n",
        "\n"
      ],
      "metadata": {
        "id": "l72T-BFjpaZ8"
      },
      "execution_count": null,
      "outputs": []
    },
    {
      "cell_type": "code",
      "source": [
        "#RegEx1, metacharacters1\n",
        "\n",
        "\n",
        "#\\ - Signals a special sequence (can also be used to escape special characters)\n",
        "import re\n",
        "\n",
        "txt = \"That will be 59 dollars\"\n",
        "\n",
        "#Find all digit characters:\n",
        "\n",
        "x = re.findall(\"\\d\", txt)\n",
        "print(x)\n"
      ],
      "metadata": {
        "id": "L0tgARa-paif"
      },
      "execution_count": null,
      "outputs": []
    },
    {
      "cell_type": "code",
      "source": [
        "#RegEx1, metacharacters2\n",
        "\n",
        "\n",
        "#. - Any character (except newline character)\n",
        "import re\n",
        "\n",
        "txt = \"hello planet\"\n",
        "\n",
        "#Search for a sequence that starts with \"he\", followed by two (any) characters, and an \"o\":\n",
        "\n",
        "x = re.findall(\"he..o\", txt)\n",
        "print(x)"
      ],
      "metadata": {
        "id": "93-XwZtPpap9"
      },
      "execution_count": null,
      "outputs": []
    },
    {
      "cell_type": "code",
      "source": [
        "#RegEx1, metacharacters3\n",
        "\n",
        "\n",
        "#^ - Starts with\n",
        "import re\n",
        "\n",
        "txt = \"hello planet\"\n",
        "\n",
        "#Check if the string starts with 'hello':\n",
        "\n",
        "x = re.findall(\"^hello\", txt)\n",
        "if x:\n",
        "  print(\"Yes, the string starts with 'hello'\")\n",
        "else:\n",
        "  print(\"No match\")\n"
      ],
      "metadata": {
        "id": "600LOrFvtH-i"
      },
      "execution_count": null,
      "outputs": []
    },
    {
      "cell_type": "code",
      "source": [
        "#RegEx1, metacharacters4\n",
        "\n",
        "\n",
        "#$ - Ends with\n",
        "import re\n",
        "\n",
        "txt = \"hello planet\"\n",
        "\n",
        "#Check if the string ends with 'planet':\n",
        "\n",
        "x = re.findall(\"planet$\", txt)\n",
        "if x:\n",
        "  print(\"Yes, the string ends with 'planet'\")\n",
        "else:\n",
        "  print(\"No match\")\n"
      ],
      "metadata": {
        "id": "wBfpbXDPtIBe"
      },
      "execution_count": null,
      "outputs": []
    },
    {
      "cell_type": "code",
      "source": [
        "#RegEx1, metacharacters5\n",
        "\n",
        "\n",
        "#* - Zero or more occurrences\n",
        "import re\n",
        "\n",
        "txt = \"hello planet\"\n",
        "\n",
        "#Search for a sequence that starts with \"he\", followed by 0 or more  (any) characters, and an \"o\":\n",
        "\n",
        "x = re.findall(\"he.*o\", txt)\n",
        "\n",
        "print(x)\n"
      ],
      "metadata": {
        "id": "kEjBmydNtIE2"
      },
      "execution_count": null,
      "outputs": []
    },
    {
      "cell_type": "code",
      "source": [
        "#RegEx1, metacharacters6\n",
        "\n",
        "\n",
        "#+ - One or more occurrences\n",
        "import re\n",
        "\n",
        "txt = \"hello planet\"\n",
        "\n",
        "#Search for a sequence that starts with \"he\", followed by 1 or more  (any) characters, and an \"o\":\n",
        "\n",
        "x = re.findall(\"he.+o\", txt)\n",
        "\n",
        "print(x)\n"
      ],
      "metadata": {
        "id": "-JtV2NRBtII9"
      },
      "execution_count": null,
      "outputs": []
    },
    {
      "cell_type": "code",
      "source": [
        "#RegEx1, metacharacters7\n",
        "\n",
        "\n",
        "#? - \tZero or one occurrences\n",
        "import re\n",
        "\n",
        "txt = \"hello planet\"\n",
        "\n",
        "#Search for a sequence that starts with \"he\", followed by 0 or 1  (any) character, and an \"o\":\n",
        "\n",
        "x = re.findall(\"he.?o\", txt)\n",
        "\n",
        "print(x)\n",
        "\n",
        "#This time we got no match, because there were not zero, not one, but two characters between \"he\" and the \"o\"\n"
      ],
      "metadata": {
        "id": "B2IH9tXqtILY"
      },
      "execution_count": null,
      "outputs": []
    },
    {
      "cell_type": "code",
      "source": [
        "#RegEx1, metacharacters8\n",
        "\n",
        "\n",
        "#{} - Exactly the specified number of occurrences\n",
        "import re\n",
        "\n",
        "txt = \"hello planet\"\n",
        "\n",
        "#Search for a sequence that starts with \"he\", followed excactly 2 (any) characters, and an \"o\":\n",
        "\n",
        "x = re.findall(\"he.{2}o\", txt)\n",
        "\n",
        "print(x)\n"
      ],
      "metadata": {
        "id": "DGvt9y7itIQx"
      },
      "execution_count": null,
      "outputs": []
    },
    {
      "cell_type": "code",
      "source": [
        "#RegEx1, metacharacters8\n",
        "\n",
        "\n",
        "#| - \tEither or ...\n",
        "import re\n",
        "\n",
        "txt = \"The rain in Spain falls mainly in the plain!\"\n",
        "\n",
        "#Check if the string contains either \"falls\" or \"stays\":\n",
        "\n",
        "x = re.findall(\"falls|stays\", txt)\n",
        "\n",
        "print(x)\n",
        "\n",
        "if x:\n",
        "  print(\"Yes, there is at least one match!\")\n",
        "else:\n",
        "  print(\"No match\")\n"
      ],
      "metadata": {
        "id": "Lm-FMlKOuRaI"
      },
      "execution_count": null,
      "outputs": []
    },
    {
      "cell_type": "markdown",
      "source": [
        "# Regular Expression's Special Sequences"
      ],
      "metadata": {
        "id": "M0LdaiYzIurp"
      }
    },
    {
      "cell_type": "code",
      "source": [
        "#RegEx1, Special Sequences0\n",
        "\n",
        "\n",
        "#\\A - Returns a match if the specified characters are at the beginning of the string\n",
        "import re\n",
        "\n",
        "txt = \"The rain in Spain\"\n",
        "\n",
        "#Check if the string starts with \"The\":\n",
        "\n",
        "x = re.findall(\"\\AThe\", txt)\n",
        "\n",
        "print(x)\n",
        "\n",
        "if x:\n",
        "  print(\"Yes, there is a match!\")\n",
        "else:\n",
        "  print(\"No match\")\n"
      ],
      "metadata": {
        "id": "lnjT0wWDuVcP"
      },
      "execution_count": null,
      "outputs": []
    },
    {
      "cell_type": "code",
      "source": [
        "#RegEx1, Special Sequences1\n",
        "\n",
        "\n",
        "#\\b - Returns a match where the specified characters are at the beginning or at the end of a word\n",
        "#(the \"r\" in the beginning is making sure that the string is being treated as a \"raw string\")\n",
        "import re\n",
        "\n",
        "txt = \"The rain in Spain\"\n",
        "\n",
        "#Check if \"ain\" is present at the beginning of a WORD:\n",
        "\n",
        "x = re.findall(r\"\\bain\", txt)\n",
        "\n",
        "print(x)\n",
        "\n",
        "if x:\n",
        "  print(\"Yes, there is at least one match!\")\n",
        "else:\n",
        "  print(\"No match\")\n",
        "\n",
        "\n",
        "import re\n",
        "\n",
        "txt = \"The rain in Spain\"\n",
        "\n",
        "#Check if \"ain\" is present at the end of a WORD:\n",
        "\n",
        "x = re.findall(r\"ain\\b\", txt)\n",
        "\n",
        "print(x)\n",
        "\n",
        "if x:\n",
        "  print(\"Yes, there is at least one match!\")\n",
        "else:\n",
        "  print(\"No match\")\n",
        "\n"
      ],
      "metadata": {
        "id": "bFTHhCIEvbYa"
      },
      "execution_count": null,
      "outputs": []
    },
    {
      "cell_type": "code",
      "source": [
        "#RegEx1, Special Sequences2\n",
        "\n",
        "\n",
        "#\\B - Returns a match where the specified characters are present, but NOT at the beginning (or at the end) of a word\n",
        "#(the \"r\" in the beginning is making sure that the string is being treated as a \"raw string\")\n",
        "\n",
        "import re\n",
        "\n",
        "txt = \"The rain in Spain\"\n",
        "\n",
        "#Check if \"ain\" is present, but NOT at the beginning of a word:\n",
        "\n",
        "x = re.findall(r\"\\Bain\", txt)\n",
        "\n",
        "print(x)\n",
        "\n",
        "if x:\n",
        "  print(\"Yes, there is at least one match!\")\n",
        "else:\n",
        "  print(\"No match\")\n",
        "\n",
        "\n",
        "\n",
        "\n",
        "import re\n",
        "\n",
        "txt = \"The rain in Spain\"\n",
        "\n",
        "#Check if \"ain\" is present, but NOT at the end of a word:\n",
        "\n",
        "x = re.findall(r\"ain\\B\", txt)\n",
        "\n",
        "print(x)\n",
        "\n",
        "if x:\n",
        "  print(\"Yes, there is at least one match!\")\n",
        "else:\n",
        "  print(\"No match\")\n"
      ],
      "metadata": {
        "id": "MPvB4u_7vbav"
      },
      "execution_count": null,
      "outputs": []
    },
    {
      "cell_type": "code",
      "source": [
        "#RegEx1, Special Sequences3\n",
        "\n",
        "\n",
        "#\\d - Returns a match where the string contains digits (numbers from 0-9)\n",
        "\n",
        "import re\n",
        "\n",
        "txt = \"The rain in Spain\"\n",
        "\n",
        "#Check if the string contains any digits (numbers from 0-9):\n",
        "\n",
        "x = re.findall(\"\\d\", txt)\n",
        "\n",
        "print(x)\n",
        "\n",
        "if x:\n",
        "  print(\"Yes, there is at least one match!\")\n",
        "else:\n",
        "  print(\"No match\")\n"
      ],
      "metadata": {
        "id": "XOVBKrPFvbd5"
      },
      "execution_count": null,
      "outputs": []
    },
    {
      "cell_type": "code",
      "source": [
        "#RegEx1, Special Sequences4\n",
        "\n",
        "\n",
        "#\\D - Returns a match where the string DOES NOT contain digits\n",
        "import re\n",
        "\n",
        "txt = \"The rain in Spain\"\n",
        "\n",
        "#Return a match at every no-digit character:\n",
        "\n",
        "x = re.findall(\"\\D\", txt)\n",
        "\n",
        "print(x)\n",
        "\n",
        "if x:\n",
        "  print(\"Yes, there is at least one match!\")\n",
        "else:\n",
        "  print(\"No match\")\n"
      ],
      "metadata": {
        "id": "ZrfAfjBkvbgQ"
      },
      "execution_count": null,
      "outputs": []
    },
    {
      "cell_type": "code",
      "source": [
        "#RegEx1, Special Sequences5\n",
        "\n",
        "\n",
        "#\\s - Returns a match where the string contains a white space character\n",
        "import re\n",
        "\n",
        "txt = \"The rain in Spain\"\n",
        "\n",
        "#Return a match at every white-space character:\n",
        "\n",
        "x = re.findall(\"\\s\", txt)\n",
        "\n",
        "print(x)\n",
        "\n",
        "if x:\n",
        "  print(\"Yes, there is at least one match!\")\n",
        "else:\n",
        "  print(\"No match\")\n"
      ],
      "metadata": {
        "id": "CnCyKoIcvbih"
      },
      "execution_count": null,
      "outputs": []
    },
    {
      "cell_type": "code",
      "source": [
        "#RegEx1, Special Sequences6\n",
        "\n",
        "\n",
        "#\\S - Returns a match where the string DOES NOT contain a white space character\n",
        "import re\n",
        "\n",
        "txt = \"The rain in Spain\"\n",
        "\n",
        "#Return a match at every NON white-space character:\n",
        "\n",
        "x = re.findall(\"\\S\", txt)\n",
        "\n",
        "print(x)\n",
        "\n",
        "if x:\n",
        "  print(\"Yes, there is at least one match!\")\n",
        "else:\n",
        "  print(\"No match\")\n"
      ],
      "metadata": {
        "id": "0UOP9lK4vblO"
      },
      "execution_count": null,
      "outputs": []
    },
    {
      "cell_type": "code",
      "source": [
        "#RegEx1, Special Sequences7\n",
        "\n",
        "\n",
        "#\\w - Returns a match where the string contains any word characters (characters from a to Z, digits from 0-9, and the underscore _ character)\n",
        "import re\n",
        "\n",
        "txt = \"The rain in Spain\"\n",
        "\n",
        "#Return a match at every word character (characters from a to Z, digits from 0-9, and the underscore _ character):\n",
        "\n",
        "x = re.findall(\"\\w\", txt)\n",
        "\n",
        "print(x)\n",
        "\n",
        "if x:\n",
        "  print(\"Yes, there is at least one match!\")\n",
        "else:\n",
        "  print(\"No match\")\n"
      ],
      "metadata": {
        "id": "Rb8DMyNDvboL"
      },
      "execution_count": null,
      "outputs": []
    },
    {
      "cell_type": "code",
      "source": [
        "#RegEx1, Special Sequences8\n",
        "\n",
        "\n",
        "#\\W - Returns a match where the string DOES NOT contain any word characters\n",
        "import re\n",
        "\n",
        "txt = \"The rain in Spain\"\n",
        "\n",
        "#Return a match at every NON word character (characters NOT between a and Z. Like \"!\", \"?\" white-space etc.):\n",
        "\n",
        "x = re.findall(\"\\W\", txt)\n",
        "\n",
        "print(x)\n",
        "\n",
        "if x:\n",
        "  print(\"Yes, there is at least one match!\")\n",
        "else:\n",
        "  print(\"No match\")\n"
      ],
      "metadata": {
        "id": "dSZUhjnevbsU"
      },
      "execution_count": null,
      "outputs": []
    },
    {
      "cell_type": "code",
      "source": [
        "#RegEx1, Special Sequences9\n",
        "\n",
        "\n",
        "#\\Z- Returns a match if the specified characters are at the end of the string\n",
        "import re\n",
        "\n",
        "txt = \"The rain in Spain\"\n",
        "\n",
        "#Check if the string ends with \"Spain\":\n",
        "\n",
        "x = re.findall(\"Spain\\Z\", txt)\n",
        "\n",
        "print(x)\n",
        "\n",
        "if x:\n",
        "  print(\"Yes, there is a match!\")\n",
        "else:\n",
        "  print(\"No match\")\n"
      ],
      "metadata": {
        "id": "McoafN2EvbvT"
      },
      "execution_count": null,
      "outputs": []
    },
    {
      "cell_type": "markdown",
      "source": [
        "# Regular Expression's sets"
      ],
      "metadata": {
        "id": "uOeE-oiBGIty"
      }
    },
    {
      "cell_type": "code",
      "source": [
        "#Special Sets\n",
        "\n",
        "#for phone numbers:\n",
        "phone_pattern = \".?(\\\\d{3}).*(\\\\d{3}).*(\\\\d{4})\"\n",
        "#for date:\n",
        "date_pattern = \"(\\\\d{2}).(\\\\d{2}).(\\\\d{4})\"\n",
        "#for names:\n",
        "name_pattern = \"(\\\\w+),\\\\s(Mr|Ms|Mrs|Dr).?\\\\s(\\\\w+)\"\n",
        "#for URLs:\n",
        "url_pattern = \"(https?)://(www)?.?(\\\\w+).(\\\\w+)/?(\\\\w+)?\"\n",
        "#for emails:\n",
        "email_pattern = \"([a-zA-Z0-9\\\\_\\\\-\\\\.]+)@([a-zA-Z]+).(.+)\"\n",
        "#for adresses:\n",
        "address_pattern = \"(\\\\d*)\\\\s?(.+),\\\\s(.+)\\\\s([A-Z]{2,3})\\\\s(\\\\d{4})\""
      ],
      "metadata": {
        "id": "_kAyVbc1GPLV"
      },
      "execution_count": null,
      "outputs": []
    },
    {
      "cell_type": "code",
      "source": [
        "#RegEx1, Sets0\n",
        "\n",
        "\n",
        "#[arn]- Returns a match where one of the specified characters (a, r, or n) is present\n",
        "import re\n",
        "\n",
        "txt = \"The rain in Spain\"\n",
        "\n",
        "#Check if the string has any a, r, or n characters:\n",
        "\n",
        "x = re.findall(\"[arn]\", txt)\n",
        "\n",
        "print(x)\n",
        "\n",
        "if x:\n",
        "  print(\"Yes, there is at least one match!\")\n",
        "else:\n",
        "  print(\"No match\")\n"
      ],
      "metadata": {
        "id": "QOth1I1Cvbxx"
      },
      "execution_count": null,
      "outputs": []
    },
    {
      "cell_type": "code",
      "source": [
        "#RegEx1, Sets1\n",
        "\n",
        "\n",
        "#[a-n] - Returns a match for any lower case character, alphabetically between a and n\n",
        "import re\n",
        "\n",
        "txt = \"The rain in Spain\"\n",
        "\n",
        "#Check if the string has any characters between a and n:\n",
        "\n",
        "x = re.findall(\"[a-n]\", txt)\n",
        "\n",
        "print(x)\n",
        "\n",
        "if x:\n",
        "  print(\"Yes, there is at least one match!\")\n",
        "else:\n",
        "  print(\"No match\")\n"
      ],
      "metadata": {
        "id": "dTMYhFdyvbzt"
      },
      "execution_count": null,
      "outputs": []
    },
    {
      "cell_type": "code",
      "source": [
        "#RegEx1, Sets2\n",
        "\n",
        "\n",
        "#[^arn] - import re\n",
        "\n",
        "txt = \"The rain in Spain\"\n",
        "\n",
        "#Check if the string has other characters than a, r, or n:\n",
        "\n",
        "x = re.findall(\"[^arn]\", txt)\n",
        "\n",
        "print(x)\n",
        "\n",
        "if x:\n",
        "  print(\"Yes, there is at least one match!\")\n",
        "else:\n",
        "  print(\"No match\")\n"
      ],
      "metadata": {
        "id": "RUIMuVA7vb26"
      },
      "execution_count": null,
      "outputs": []
    },
    {
      "cell_type": "code",
      "source": [
        "#RegEx1, Sets3\n",
        "\n",
        "\n",
        "#[0123] - Returns a match where any of the specified digits (0, 1, 2, or 3) are present\n",
        "import re\n",
        "\n",
        "txt = \"The rain in Spain\"\n",
        "\n",
        "#Check if the string has any 0, 1, 2, or 3 digits:\n",
        "\n",
        "x = re.findall(\"[0123]\", txt)\n",
        "\n",
        "print(x)\n",
        "\n",
        "if x:\n",
        "  print(\"Yes, there is at least one match!\")\n",
        "else:\n",
        "  print(\"No match\")\n"
      ],
      "metadata": {
        "id": "ctzgGX1dvb55"
      },
      "execution_count": null,
      "outputs": []
    },
    {
      "cell_type": "code",
      "source": [
        "#RegEx1, Sets4\n",
        "\n",
        "\n",
        "#[0-9] - Returns a match for any digit between 0 and 9\n",
        "import re\n",
        "\n",
        "txt = \"8 times before 11:45 AM\"\n",
        "\n",
        "#Check if the string has any digits:\n",
        "\n",
        "x = re.findall(\"[0-9]\", txt)\n",
        "\n",
        "print(x)\n",
        "\n",
        "if x:\n",
        "  print(\"Yes, there is at least one match!\")\n",
        "else:\n",
        "  print(\"No match\")\n"
      ],
      "metadata": {
        "id": "K6dpRkuDvb8U"
      },
      "execution_count": null,
      "outputs": []
    },
    {
      "cell_type": "code",
      "source": [
        "#RegEx1, Sets5\n",
        "\n",
        "\n",
        "#[0-5][0-9] - Returns a match for any two-digit numbers from 00 and 59\n",
        "import re\n",
        "\n",
        "txt = \"8 times before 11:45 AM\"\n",
        "\n",
        "#Check if the string has any two-digit numbers, from 00 to 59:\n",
        "\n",
        "x = re.findall(\"[0-5][0-9]\", txt)\n",
        "\n",
        "print(x)\n",
        "\n",
        "if x:\n",
        "  print(\"Yes, there is at least one match!\")\n",
        "else:\n",
        "  print(\"No match\")\n"
      ],
      "metadata": {
        "id": "JBkyA3blvb_G"
      },
      "execution_count": null,
      "outputs": []
    },
    {
      "cell_type": "code",
      "source": [
        "#RegEx1, Special Sequences1\n",
        "\n",
        "\n",
        "#[a-zA-Z] - Returns a match for any character alphabetically between a and z, lower case OR upper case\n",
        "import re\n",
        "\n",
        "txt = \"8 times before 11:45 AM\"\n",
        "\n",
        "#Check if the string has any characters from a to z lower case, and A to Z upper case:\n",
        "\n",
        "x = re.findall(\"[a-zA-Z]\", txt)\n",
        "\n",
        "print(x)\n",
        "\n",
        "if x:\n",
        "  print(\"Yes, there is at least one match!\")\n",
        "else:\n",
        "  print(\"No match\")\n"
      ],
      "metadata": {
        "id": "TavUCFASvcCM"
      },
      "execution_count": null,
      "outputs": []
    },
    {
      "cell_type": "code",
      "source": [
        "#RegEx1, Sets6\n",
        "\n",
        "\n",
        "#[+] - In sets, +, *, ., |, (), $,{} has no special meaning, so [+] means: return a match for any + character in the string\n",
        "import re\n",
        "\n",
        "txt = \"8 times before 11:45 AM\"\n",
        "\n",
        "#Check if the string has any + characters:\n",
        "\n",
        "x = re.findall(\"[+]\", txt)\n",
        "\n",
        "print(x)\n",
        "\n",
        "if x:\n",
        "  print(\"Yes, there is at least one match!\")\n",
        "else:\n",
        "  print(\"No match\")"
      ],
      "metadata": {
        "id": "OVcSxTYG1CK9"
      },
      "execution_count": null,
      "outputs": []
    },
    {
      "cell_type": "markdown",
      "source": [
        "# Regular Expression's functions"
      ],
      "metadata": {
        "id": "H0SoSquWI6le"
      }
    },
    {
      "cell_type": "code",
      "source": [
        "#RegEx2, functions0\n",
        "\n",
        "#findall()\n",
        "import re\n",
        "\n",
        "txt = \"The rain in Spain\"\n",
        "x = re.findall(\"ai\", txt)\n",
        "print(x)"
      ],
      "metadata": {
        "id": "KX-V6Tk81CO-"
      },
      "execution_count": null,
      "outputs": []
    },
    {
      "cell_type": "code",
      "source": [
        "#RegEx2, functions1\n",
        "\n",
        "#findall()\n",
        "import re\n",
        "\n",
        "txt = \"The rain in Spain\"\n",
        "x = re.findall(\"Portugal\", txt)\n",
        "print(x)"
      ],
      "metadata": {
        "id": "bkJRxnsX1kLV"
      },
      "execution_count": null,
      "outputs": []
    },
    {
      "cell_type": "code",
      "source": [
        "#RegEx2, functions2\n",
        "\n",
        "#search()\n",
        "import re\n",
        "\n",
        "txt = \"The rain in Spain\"\n",
        "x = re.search(\"\\s\", txt)\n",
        "\n",
        "print(\"The first white-space character is located in position:\", x.start())\n"
      ],
      "metadata": {
        "id": "_LoJxBaz1kPL"
      },
      "execution_count": null,
      "outputs": []
    },
    {
      "cell_type": "code",
      "source": [
        "#RegEx2, functions3\n",
        "\n",
        "#search()\n",
        "import re\n",
        "\n",
        "txt = \"The rain in Spain\"\n",
        "x = re.search(\"Portugal\", txt)\n",
        "print(x)"
      ],
      "metadata": {
        "id": "mstQHdN31kSB"
      },
      "execution_count": null,
      "outputs": []
    },
    {
      "cell_type": "code",
      "source": [
        "#RegEx2, functions4\n",
        "\n",
        "#split()\n",
        "import re\n",
        "\n",
        "txt = \"The rain in Spain\"\n",
        "x = re.split(\"\\s\", txt)\n",
        "print(x)"
      ],
      "metadata": {
        "id": "tH6e9TFK1kW_"
      },
      "execution_count": null,
      "outputs": []
    },
    {
      "cell_type": "code",
      "source": [
        "#RegEx2, functions5\n",
        "\n",
        "#split()\n",
        "import re\n",
        "\n",
        "txt = \"The rain in Spain\"\n",
        "x = re.split(\"\\s\", txt, 1)\n",
        "print(x)"
      ],
      "metadata": {
        "id": "TfmSy5r-1kb5"
      },
      "execution_count": null,
      "outputs": []
    },
    {
      "cell_type": "code",
      "source": [
        "#RegEx2, functions6\n",
        "\n",
        "#sub()\n",
        "import re\n",
        "\n",
        "txt = \"The rain in Spain\"\n",
        "x = re.sub(\"\\s\", \"9\", txt)\n",
        "print(x)"
      ],
      "metadata": {
        "id": "VgxkO4o21kfB"
      },
      "execution_count": null,
      "outputs": []
    },
    {
      "cell_type": "code",
      "source": [
        "#RegEx2, functions7\n",
        "\n",
        "#sub()\n",
        "import re\n",
        "\n",
        "txt = \"The rain in Spain\"\n",
        "x = re.sub(\"\\s\", \"9\", txt, 2)\n",
        "print(x)"
      ],
      "metadata": {
        "id": "wOGuZuz-2CdM"
      },
      "execution_count": null,
      "outputs": []
    },
    {
      "cell_type": "markdown",
      "source": [
        "# Match object"
      ],
      "metadata": {
        "id": "518PdJVqI_eZ"
      }
    },
    {
      "cell_type": "code",
      "source": [
        "#RegEx3, Match Object0\n",
        "\n",
        "#.span() - returns a tuple containing the start-, and end positions of the match.\n",
        "import re\n",
        "\n",
        "txt = \"The rain in Spain\"\n",
        "x = re.search(r\"\\bS\\w+\", txt)\n",
        "print(x.span())"
      ],
      "metadata": {
        "id": "XlxemlyX2CgK"
      },
      "execution_count": null,
      "outputs": []
    },
    {
      "cell_type": "code",
      "source": [
        "#RegEx3, Match Object1\n",
        "\n",
        "#.string - returns the string passed into the function\n",
        "import re\n",
        "\n",
        "txt = \"The rain in Spain\"\n",
        "x = re.search(r\"\\bS\\w+\", txt)\n",
        "print(x.string)"
      ],
      "metadata": {
        "id": "iO4oM0442Ci9"
      },
      "execution_count": null,
      "outputs": []
    },
    {
      "cell_type": "code",
      "source": [
        "#RegEx3, Match Object2\n",
        "\n",
        "#.group() - returns the part of the string where there was a match\n",
        "import re\n",
        "\n",
        "txt = \"The rain in Spain\"\n",
        "x = re.search(r\"\\bS\\w+\", txt)\n",
        "print(x.group())"
      ],
      "metadata": {
        "id": "zT-4cLDE2mDJ"
      },
      "execution_count": null,
      "outputs": []
    }
  ]
}